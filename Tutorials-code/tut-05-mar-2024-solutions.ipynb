{
 "cells": [
  {
   "cell_type": "markdown",
   "id": "97870bee",
   "metadata": {},
   "source": [
    "# Carbon footprints of servers and phones\n",
    "\n",
    "\n",
    "## Embodied carbon and emissions from use of a server\n",
    "\n",
    "Based on a Dell PowerEdge R7515 with an Nvidia A100 GPU\n",
    "\n",
    "### Embodied carbon\n",
    "\n",
    "Given a server with the following specification:\n",
    "\n",
    "* CPU: AMD 32 cores, 1GHz\n",
    "* GPU: Nvidia A100, 1GHz, 40 GB on-board memory\n",
    "* SSD: 4 TB, 2x\n",
    "* RAM: 128 GB (8 x 16 GB)\n",
    "* NIC: Gb Ethernet\n",
    "\n",
    "We can get the following figures for embodied carbon from various data sheets and papers:\n",
    "\n",
    "* CPU: 40 kgCO2e\n",
    "* GPU: 200 kgCO2e (incl on-board RAM) \n",
    "* SSD: 400 kgCO2e per disk\n",
    "* RAM: 30 kgCO2e per 16 GB module\n",
    "* all other components: 112 kgCO2e\n",
    "\n",
    "#### Question 1\n",
    "\n",
    "How much (in kgCO2e) is the embodied carbon of this server?"
   ]
  },
  {
   "cell_type": "code",
   "execution_count": 1,
   "id": "9899a311",
   "metadata": {},
   "outputs": [
    {
     "name": "stdout",
     "output_type": "stream",
     "text": [
      "Total embodied carbon: 1598\n",
      "Breakdown\n",
      "41 200 264 868 225\n"
     ]
    }
   ],
   "source": [
    "embodied_carbon_cpu  = 41\n",
    "embodied_carbon_gpu = 200\n",
    "embodied_carbon_ssd = 434\n",
    "embodied_carbon_ram = 33\n",
    "embodied_carbon_rest = 225\n",
    "embodied_carbon_tot = embodied_carbon_cpu+embodied_carbon_gpu+8*embodied_carbon_ram+2*embodied_carbon_ssd+embodied_carbon_rest\n",
    "print('Total embodied carbon:',embodied_carbon_tot)\n",
    "\n",
    "print('Breakdown')\n",
    "print(embodied_carbon_cpu,embodied_carbon_gpu,8*embodied_carbon_ram,2*embodied_carbon_ssd,embodied_carbon_rest)"
   ]
  },
  {
   "cell_type": "markdown",
   "id": "588524a0",
   "metadata": {},
   "source": [
    "#### Question 2\n",
    "\n",
    "- How much of this is contributed by the SSD, the GPU and the CPU? \n",
    "- Which component dominates and by how much? "
   ]
  },
  {
   "cell_type": "markdown",
   "id": "e40c4d14",
   "metadata": {},
   "source": [
    "##### Answer\n",
    "\n",
    "The SSD dominates: 868/1598 or 54%; GPU is 200/1598 or 12.5% and CPU 41/1598 or 2.5%"
   ]
  },
  {
   "cell_type": "markdown",
   "id": "b2c55ef0",
   "metadata": {},
   "source": [
    "### CO2 emissions from use\n",
    "\n",
    "* Assuming the server consumes 1660 kWh/year and has a lifetime of 4 years\n",
    "* Using the following figures for electricity carbon intensity:\n",
    "\t- World: 475 gCO2e/kWh\n",
    "\t- EU: 265 gCO2e/kWh\n",
    "\t- UK: 182 gCO2e/kWh\n",
    "\t- Glasgow: 30 gCO2e/kWh\n",
    "\n",
    "#### Question 3\n",
    "\n",
    "How much (in kgCO2e) are the CO2 emissions from lifetime use of this server in these four geographical areas?"
   ]
  },
  {
   "cell_type": "code",
   "execution_count": 2,
   "id": "d3c3fc62",
   "metadata": {},
   "outputs": [
    {
     "name": "stdout",
     "output_type": "stream",
     "text": [
      "3154.0 1759.6 1208.48 199.2\n"
     ]
    }
   ],
   "source": [
    "lifetime = 4 # years\n",
    "energy_consumption = 1660 # kWh/year\n",
    "ci_world = 475 # https://www.iea.org/reports/global-energy-co2-status-report-2019/emissions\n",
    "ci_eu = 265 # gCO2e/kWh\n",
    "ci_uk = 182\n",
    "ci_gl = 30\n",
    "\n",
    "co2_world = lifetime*energy_consumption*ci_world/1000\n",
    "co2_eu = lifetime*energy_consumption*ci_eu/1000\n",
    "co2_uk = lifetime*energy_consumption*ci_uk/1000\n",
    "co2_gl = lifetime*energy_consumption*ci_gl/1000\n",
    "print(co2_world,co2_eu,co2_uk,co2_gl)"
   ]
  },
  {
   "cell_type": "markdown",
   "id": "30e8095f",
   "metadata": {},
   "source": [
    "#### Question 4\n",
    "\n",
    "If we want to minimise emissions, what does this mean for the lifetime of the server?"
   ]
  },
  {
   "cell_type": "markdown",
   "id": "aac3bd82",
   "metadata": {},
   "source": [
    "##### Answer: \n",
    "\n",
    "It needs to become much longer"
   ]
  },
  {
   "cell_type": "markdown",
   "id": "9f90b924",
   "metadata": {},
   "source": [
    "## Carbon emissions of a smartphone\n",
    "\n",
    "Based on a Apple iPhone X\n",
    "\n",
    "### Embodied carbon\n",
    "\n",
    "Given a phone with the following specification:\n",
    "\n",
    "* CPU+GPU: Apple A11 Arm CPU (Hexa-core 2.39 GHz (2x Monsoon + 4x Mistral)) + 3-core GPU\n",
    "* SSD: 64 GB / 256 GB\n",
    "* RAM: 3 GB\n",
    "\n",
    "We can get a total figure for embodied carbon from the paper by Clément et al:\n",
    "\n",
    "* Total 70 kgCO2e \n",
    "\n",
    "#### Question 5\n",
    "\n",
    "- Based on the information in the lecture slides, what percentage of this is contributed by the chips, display and battery? \n",
    "- Which component dominates and by how much?"
   ]
  },
  {
   "cell_type": "markdown",
   "id": "1a8bf095",
   "metadata": {},
   "source": [
    "##### Answer: \n",
    "\n",
    "There are no data for the iPhone X in the slides. But for most phones, the chips dominate: average for chips is 50%, battery around 10% and display around 20%."
   ]
  },
  {
   "cell_type": "markdown",
   "id": "ef2854ce",
   "metadata": {},
   "source": [
    "### CO2 emissions from use\n",
    "\n",
    "* Assuming the phone consumes 4 kWh/year and has a lifetime of 3 years\n",
    "\n",
    "* Using the following figures for electricity carbon intensity:\n",
    "    - World: 475 gCO2e/kWh (the paper by Clément et al assumed 813)\n",
    "\t- EU: 265 gCO2e/kWh\n",
    "\t- UK: 182 gCO2e/kWh\n",
    "\t- Glasgow: 30 gCO2e/kWh\n",
    "\n",
    "#### Question 6\n",
    "\n",
    "How much (in kgCO2e) are the CO2 emissions from lifetime use of this phone in these four geographical areas?"
   ]
  },
  {
   "cell_type": "code",
   "execution_count": 3,
   "id": "5cca35e4",
   "metadata": {},
   "outputs": [
    {
     "name": "stdout",
     "output_type": "stream",
     "text": [
      "Phone emissions from lifetime use (kgCO2e)\n",
      "5.7 3.18 2.184 0.36\n"
     ]
    }
   ],
   "source": [
    "embodied_carbon_tot_phone = 70\n",
    "lifetime_phone = 3 # years\n",
    "energy_consumption_phone = 4 # kWh/year\n",
    "\n",
    "co2_world_phone = lifetime_phone*energy_consumption_phone*ci_world/1000\n",
    "co2_eu_phone = lifetime_phone*energy_consumption_phone*ci_eu/1000\n",
    "co2_uk_phone = lifetime_phone*energy_consumption_phone*ci_uk/1000\n",
    "co2_gl_phone = lifetime_phone*energy_consumption_phone*ci_gl/1000\n",
    "print('Phone emissions from lifetime use (kgCO2e)')\n",
    "print(co2_world_phone,co2_eu_phone,co2_uk_phone,co2_gl_phone)"
   ]
  },
  {
   "cell_type": "markdown",
   "id": "a1df3173",
   "metadata": {},
   "source": [
    "#### Question 7\n",
    "\n",
    "How does this compare to the embodied carbon"
   ]
  },
  {
   "cell_type": "markdown",
   "id": "369f58de",
   "metadata": {},
   "source": [
    "##### Answer: \n",
    "\n",
    "Embodied carbon of phones is much higher than lifetime use carbon. So we should use phones for much longer. "
   ]
  },
  {
   "cell_type": "markdown",
   "id": "d593b69c",
   "metadata": {},
   "source": [
    "\n",
    "\n",
    "## Comparison servers and phones\n",
    "\n",
    "#### Question 8\n",
    "\n",
    "Assuming that all phones and servers are similar to these two examples, what causes most emissions, phones or servers? There are an estimate 5-10 billion smart phones and 50-200 million servers in the world."
   ]
  },
  {
   "cell_type": "code",
   "execution_count": 4,
   "id": "a1395f23",
   "metadata": {},
   "outputs": [
    {
     "name": "stdout",
     "output_type": "stream",
     "text": [
      "Servers: 237  to  950\n",
      "Phones: 378  to  757\n"
     ]
    }
   ],
   "source": [
    "n_servers_min =  50*1e6\n",
    "n_servers_max =  200*1e6\n",
    "n_phones_min = 5*1e9\n",
    "n_phones_max = 10*1e9\n",
    "\n",
    "total_emissions_server_min = int(n_servers_min*(embodied_carbon_tot+co2_world)*1e-9)\n",
    "total_emissions_server_max = int(n_servers_max*(embodied_carbon_tot+co2_world)*1e-9)\n",
    "total_emissions_phone_min = int(n_phones_min*(embodied_carbon_tot_phone+co2_world_phone)*1e-9)\n",
    "total_emissions_phone_max = int(n_phones_max*(embodied_carbon_tot_phone+co2_world_phone)*1e-9)\n",
    "\n",
    "print('Servers:',total_emissions_server_min,' to ',total_emissions_server_max)\n",
    "print('Phones:',total_emissions_phone_min,' to ',total_emissions_phone_max)"
   ]
  },
  {
   "cell_type": "markdown",
   "id": "1da49c3b",
   "metadata": {},
   "source": [
    "##### Answer\n",
    "\n",
    "The ranges overlap, but the average is higher for phones"
   ]
  },
  {
   "cell_type": "code",
   "execution_count": null,
   "id": "c9ecf80e",
   "metadata": {},
   "outputs": [],
   "source": []
  }
 ],
 "metadata": {
  "kernelspec": {
   "display_name": "Python 3 (ipykernel)",
   "language": "python",
   "name": "python3"
  },
  "language_info": {
   "codemirror_mode": {
    "name": "ipython",
    "version": 3
   },
   "file_extension": ".py",
   "mimetype": "text/x-python",
   "name": "python",
   "nbconvert_exporter": "python",
   "pygments_lexer": "ipython3",
   "version": "3.8.9"
  }
 },
 "nbformat": 4,
 "nbformat_minor": 5
}
